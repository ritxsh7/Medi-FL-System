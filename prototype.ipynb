{
 "cells": [
  {
   "cell_type": "code",
   "execution_count": 1,
   "metadata": {},
   "outputs": [],
   "source": [
    "from ultralytics import YOLO"
   ]
  },
  {
   "cell_type": "code",
   "execution_count": 2,
   "metadata": {},
   "outputs": [],
   "source": [
    "model_path = \"server/model/best_model.pt\"\n",
    "model = YOLO(model=model_path)"
   ]
  },
  {
   "cell_type": "code",
   "execution_count": 5,
   "metadata": {},
   "outputs": [
    {
     "name": "stdout",
     "output_type": "stream",
     "text": [
      "\n",
      "image 1/1 d:\\BE Project\\application\\opg-data\\data\\test\\images\\217_jpg.rf.4e9a2b6c944e4816f6cc5190456b61ad.jpg: 320x640 2 cariess, 7 coronas, 7 endodoncias, 143.8ms\n",
      "Speed: 1.0ms preprocess, 143.8ms inference, 1.0ms postprocess per image at shape (1, 3, 320, 640)\n",
      "Results saved to \u001b[1mruns\\detect\\predict\u001b[0m\n",
      "tensor([[418.4461, 124.9536, 447.8405, 162.3402],\n",
      "        [161.5487, 154.2428, 198.7896, 184.5746],\n",
      "        [395.7798, 126.9444, 416.7022, 166.0374],\n",
      "        [196.2365, 158.8466, 231.2002, 190.2132],\n",
      "        [457.5687, 191.4673, 497.0745, 233.3221],\n",
      "        [400.1151, 203.9515, 424.0760, 250.2057],\n",
      "        [387.4094, 159.4104, 416.0676, 191.7123],\n",
      "        [234.1888, 131.0472, 251.4282, 175.1632],\n",
      "        [386.3169, 187.3906, 414.3076, 210.0604],\n",
      "        [228.5814, 169.7771, 255.1927, 194.5790],\n",
      "        [363.8047, 123.2176, 383.1659, 172.2640],\n",
      "        [411.5279, 157.7369, 448.5683, 198.0923],\n",
      "        [173.6484, 115.4203, 196.8825, 163.5117],\n",
      "        [444.5170, 163.6982, 484.0287, 200.0106],\n",
      "        [195.6951, 181.4240, 229.1379, 205.0995],\n",
      "        [227.7466, 187.9407, 257.8483, 214.8263]])\n",
      "Confidence Scores: tensor([0.7723, 0.7128, 0.6642, 0.6616, 0.6563, 0.6536, 0.6169, 0.5822, 0.5801, 0.5019, 0.4993, 0.4967, 0.4312, 0.4228, 0.3227, 0.2772])\n",
      "Class Indices: tensor([3., 1., 3., 1., 3., 3., 1., 3., 1., 1., 3., 1., 3., 1., 0., 0.])\n"
     ]
    }
   ],
   "source": [
    "# Perform prediction on a random image\n",
    "results = model.predict(source='opg-data/data/test/images/217_jpg.rf.4e9a2b6c944e4816f6cc5190456b61ad.jpg', save=True) \n",
    "print(results[0].boxes.xyxy)\n",
    "print(\"Confidence Scores:\", results[0].boxes.conf)\n",
    "print(\"Class Indices:\", results[0].boxes.cls)"
   ]
  },
  {
   "cell_type": "code",
   "execution_count": null,
   "metadata": {},
   "outputs": [],
   "source": []
  }
 ],
 "metadata": {
  "kernelspec": {
   "display_name": "base",
   "language": "python",
   "name": "python3"
  },
  "language_info": {
   "codemirror_mode": {
    "name": "ipython",
    "version": 3
   },
   "file_extension": ".py",
   "mimetype": "text/x-python",
   "name": "python",
   "nbconvert_exporter": "python",
   "pygments_lexer": "ipython3",
   "version": "3.12.7"
  }
 },
 "nbformat": 4,
 "nbformat_minor": 2
}
